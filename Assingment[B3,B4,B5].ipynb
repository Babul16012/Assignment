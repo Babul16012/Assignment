{
  "nbformat": 4,
  "nbformat_minor": 0,
  "metadata": {
    "colab": {
      "provenance": [],
      "authorship_tag": "ABX9TyPS/BUDo9ayirTjZR/xXcvV",
      "include_colab_link": true
    },
    "kernelspec": {
      "name": "python3",
      "display_name": "Python 3"
    },
    "language_info": {
      "name": "python"
    }
  },
  "cells": [
    {
      "cell_type": "markdown",
      "metadata": {
        "id": "view-in-github",
        "colab_type": "text"
      },
      "source": [
        "<a href=\"https://colab.research.google.com/github/Babul16012/Assignment/blob/main/Assingment%5BB3%2CB4%2CB5%5D.ipynb\" target=\"_parent\"><img src=\"https://colab.research.google.com/assets/colab-badge.svg\" alt=\"Open In Colab\"/></a>"
      ]
    },
    {
      "cell_type": "code",
      "execution_count": 10,
      "metadata": {
        "colab": {
          "base_uri": "https://localhost:8080/"
        },
        "id": "GQn4_NaEQVYg",
        "outputId": "cd52f827-b857-4603-a562-339ab96ae029"
      },
      "outputs": [
        {
          "output_type": "stream",
          "name": "stdout",
          "text": [
            "50\n",
            "-4\n",
            "621\n",
            "20.0\n"
          ]
        }
      ],
      "source": [
        "# calculator.py (Custom module)\n",
        "\n",
        "def add(x, y):\n",
        "    \"\"\"Add two numbers.\"\"\"\n",
        "    return x + y\n",
        "x=23\n",
        "y=27\n",
        "print(add(x, y))\n",
        "\n",
        "def subtract(x, y):\n",
        "    \"\"\"Subtract two numbers.\"\"\"\n",
        "    return x - y\n",
        "print(subtract(x, y))\n",
        "\n",
        "\n",
        "def multiply(x, y):\n",
        "    \"\"\"Multiply two numbers.\"\"\"\n",
        "    return x * y\n",
        "print(multiply(x, y))\n",
        "\n",
        "\n",
        "def divide(x, y):\n",
        "    \"\"\"Divide two numbers.\"\"\"\n",
        "    if y == 0:\n",
        "        return \"Error! Division by zero.\"\n",
        "    return x / y\n",
        "x=40\n",
        "y=2\n",
        "print(divide(x, y))\n"
      ]
    }
  ]
}